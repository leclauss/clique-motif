{
 "cells": [
  {
   "cell_type": "markdown",
   "metadata": {},
   "source": [
    "# Motif Discovery Visualization\n",
    "\n",
    "## Imports"
   ]
  },
  {
   "cell_type": "code",
   "execution_count": null,
   "metadata": {},
   "outputs": [],
   "source": [
    "%matplotlib notebook\n",
    "import matplotlib.pyplot as plt\n",
    "plt.rcParams['figure.figsize'] = [10, 5]\n",
    "from pathlib import Path\n",
    "from ipywidgets import interact_manual\n",
    "\n",
    "from runBenchmark import getBenchmarkFiles, algorithms\n",
    "from plot import plotMotif"
   ]
  },
  {
   "cell_type": "markdown",
   "metadata": {},
   "source": [
    "## Find benchmark files\n",
    "\n",
    "You can generate the benchmark using the _generateBenchmark.py_ script. The benchmark path can be modified below."
   ]
  },
  {
   "cell_type": "code",
   "execution_count": null,
   "metadata": {},
   "outputs": [],
   "source": [
    "benchmarkPath = Path(\"./benchmark\")  # change path to benchmark here\n",
    "\n",
    "exists = benchmarkPath.exists()\n",
    "print(\"Benchmark Path exists:\", exists)\n",
    "filePaths = {}\n",
    "count = 0\n",
    "if exists:\n",
    "    for files in getBenchmarkFiles(benchmarkPath):\n",
    "        filePaths[files[0]] = files[1:]\n",
    "        count += 1\n",
    "print(count, \"time series found\")"
   ]
  },
  {
   "cell_type": "markdown",
   "metadata": {},
   "source": [
    "## Run an algorithm and plot results"
   ]
  },
  {
   "cell_type": "code",
   "execution_count": null,
   "metadata": {
    "scrolled": false
   },
   "outputs": [],
   "source": [
    "@interact_manual(Algorithm=algorithms.keys(), TS_Files=sorted(filePaths.keys()))\n",
    "def interactive_plot(Algorithm, TS_Files):\n",
    "    tsDir = Path(TS_Files)\n",
    "    tsPath = tsDir / filePaths[TS_Files][0]\n",
    "    tsMetaPath = tsDir / filePaths[TS_Files][1]\n",
    "    plotMotif(Algorithm, tsPath, tsMetaPath)"
   ]
  },
  {
   "cell_type": "markdown",
   "metadata": {},
   "source": [
    "You can use the buttons below the figure to interactively zoom and move the plot.\n",
    "\n",
    "The area at the specific indices is colored as follows:\n",
    "* <span style=\"color:green\">Green</span>: true positive\n",
    "* <span style=\"color:olive\">Yellow</span>: false negative\n",
    "* <span style=\"color:red\">Red</span>: false positive\n",
    "* White: true negative\n",
    "\n",
    "<br/><br/><br/><br/><br/><br/><br/><br/><br/><br/><br/><br/><br/><br/><br/><br/><br/><br/><br/><br/><br/><br/>"
   ]
  }
 ],
 "metadata": {
  "kernelspec": {
   "display_name": "Python 3",
   "language": "python",
   "name": "python3"
  },
  "language_info": {
   "codemirror_mode": {
    "name": "ipython",
    "version": 3
   },
   "file_extension": ".py",
   "mimetype": "text/x-python",
   "name": "python",
   "nbconvert_exporter": "python",
   "pygments_lexer": "ipython3",
   "version": "3.8.5"
  }
 },
 "nbformat": 4,
 "nbformat_minor": 4
}
