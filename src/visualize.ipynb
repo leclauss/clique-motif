{
 "cells": [
  {
   "cell_type": "markdown",
   "metadata": {},
   "source": [
    "# Motif Discovery Visualization\n",
    "\n",
    "## Imports"
   ]
  },
  {
   "cell_type": "code",
   "execution_count": 1,
   "metadata": {},
   "outputs": [],
   "source": [
    "%matplotlib notebook\n",
    "import matplotlib.pyplot as plt\n",
    "plt.rcParams['figure.figsize'] = [10, 5]\n",
    "from pathlib import Path\n",
    "from ipywidgets import interact_manual\n",
    "from scipy import stats\n",
    "\n",
    "from scripts.runBenchmark import getBenchmarkFiles, algorithms\n",
    "from scripts.plot import plotMotif"
   ]
  },
  {
   "cell_type": "markdown",
   "metadata": {},
   "source": [
    "## Find benchmark files\n",
    "\n",
    "You can generate the benchmark using the _generateBenchmark.py_ script. The benchmark path can be modified below."
   ]
  },
  {
   "cell_type": "code",
   "execution_count": 2,
   "metadata": {},
   "outputs": [
    {
     "name": "stdout",
     "output_type": "stream",
     "text": [
      "Benchmark Path exists: True\n",
      "6 time series found\n"
     ]
    }
   ],
   "source": [
    "benchmarkPath = Path(\"./real\")  # change path to benchmark here\n",
    "\n",
    "exists = benchmarkPath.exists()\n",
    "print(\"Benchmark Path exists:\", exists)\n",
    "filePaths = {}\n",
    "count = 0\n",
    "if exists:\n",
    "    for files in getBenchmarkFiles(benchmarkPath):\n",
    "        filePaths[files[0]] = files[1:]\n",
    "        count += 1\n",
    "print(count, \"time series found\")"
   ]
  },
  {
   "cell_type": "markdown",
   "metadata": {},
   "source": [
    "## Run an algorithm and plot results"
   ]
  },
  {
   "cell_type": "code",
   "execution_count": 4,
   "metadata": {
    "scrolled": false
   },
   "outputs": [
    {
     "data": {
      "application/vnd.jupyter.widget-view+json": {
       "model_id": "8474a5d642064b428d165c2d32bf3182",
       "version_major": 2,
       "version_minor": 0
      },
      "text/plain": [
       "interactive(children=(Dropdown(description='Algorithm', options=('CliqueMotif', 'EMMA', 'GrammarViz3.0', 'Scan…"
      ]
     },
     "metadata": {},
     "output_type": "display_data"
    }
   ],
   "source": [
    "timeout = None#10.0  # set the timeout (in seconds) here\n",
    "maxMemory = None#6144*1024*1024  # set memory limit (in B) here\n",
    "\n",
    "@interact_manual(Algorithm=algorithms.keys(), TS_Files=sorted(filePaths.keys()))\n",
    "def interactive_plot(Algorithm, TS_Files):\n",
    "    tsDir = Path(TS_Files)\n",
    "    tsPath = tsDir / filePaths[TS_Files][0]\n",
    "    tsMetaPath = tsDir / filePaths[TS_Files][1]\n",
    "    motif,ts,l = plotMotif(Algorithm, tsPath, tsMetaPath, timeout, maxMemory)\n",
    "\n",
    "    print(len(motif))\n",
    "    print(motif)\n",
    "    print([i%48 for i in motif])\n",
    "    fig, ax = plt.subplots(figsize=(5,5))\n",
    "    yOffset = 0\n",
    "    for i in motif[:5]:\n",
    "        y = stats.zscore(ts[i:i+l])-yOffset\n",
    "        ax.plot(y)\n",
    "        yOffset+=3\n",
    "    ax.set_yticks([])\n",
    "    \n",
    "    mean = stats.zscore(ts[motif[0]:motif[0]+l])\n",
    "    for i in motif[1:]:\n",
    "        mean += stats.zscore(ts[i:i+l])\n",
    "    mean /= len(motif)\n",
    "    fig, ax = plt.subplots(figsize=(5,5))\n",
    "    ax.plot(mean)"
   ]
  },
  {
   "cell_type": "markdown",
   "metadata": {},
   "source": [
    "You can use the buttons below the figure to interactively zoom and move the plot.\n",
    "\n",
    "The area at the specific indices is colored as follows:\n",
    "* <span style=\"color:green\">Green</span>: true positive\n",
    "* <span style=\"color:olive\">Yellow</span>: false negative\n",
    "* <span style=\"color:red\">Red</span>: false positive\n",
    "* White: true negative"
   ]
  },
  {
   "cell_type": "markdown",
   "metadata": {},
   "source": [
    "<br/><br/><br/><br/><br/><br/><br/><br/><br/><br/><br/><br/><br/><br/><br/><br/><br/><br/><br/><br/><br/><br/><br/><br/><br/><br/>"
   ]
  },
  {
   "cell_type": "code",
   "execution_count": 3,
   "metadata": {},
   "outputs": [
    {
     "data": {
      "application/vnd.jupyter.widget-view+json": {
       "model_id": "f886e185498a46f8b284e36fcd9658ef",
       "version_major": 2,
       "version_minor": 0
      },
      "text/plain": [
       "interactive(children=(Dropdown(description='Algorithm', options=('CliqueMotif', 'EMMA', 'GrammarViz3.0', 'Scan…"
      ]
     },
     "metadata": {},
     "output_type": "display_data"
    }
   ],
   "source": [
    "from cliqueMotif import getTopMotif\n",
    "import math\n",
    "import numpy as np\n",
    "\n",
    "timeout = None#10.0  # set the timeout (in seconds) here\n",
    "maxMemory = None#6144*1024*1024  # set memory limit (in B) here\n",
    "\n",
    "@interact_manual(Algorithm=algorithms.keys(), TS_Files=sorted(filePaths.keys()))\n",
    "def interactive_plot(Algorithm, TS_Files):\n",
    "    tsDir = Path(TS_Files)\n",
    "    tsPath = tsDir / filePaths[TS_Files][0]\n",
    "    tsMetaPath = tsDir / filePaths[TS_Files][1]\n",
    "    l = 48\n",
    "    minCorr = 0.85\n",
    "    runs = 30\n",
    "    maxRange = math.sqrt(l/2*(1-minCorr))\n",
    "    corrs = []\n",
    "    ranges = []\n",
    "    lens = []\n",
    "    for r in np.linspace(0,maxRange,runs):\n",
    "        corrs.append(1-2*(r**2/l))\n",
    "        ranges.append(r)\n",
    "        motif,stats = getTopMotif(l, r, tsPath)\n",
    "        print(r,\",\",len(motif))\n",
    "        lens.append(len(motif))\n",
    "    fig, ax = plt.subplots()\n",
    "    ax.plot(corrs,lens)"
   ]
  },
  {
   "cell_type": "code",
   "execution_count": null,
   "metadata": {},
   "outputs": [],
   "source": []
  }
 ],
 "metadata": {
  "kernelspec": {
   "display_name": "Python 3",
   "language": "python",
   "name": "python3"
  },
  "language_info": {
   "codemirror_mode": {
    "name": "ipython",
    "version": 3
   },
   "file_extension": ".py",
   "mimetype": "text/x-python",
   "name": "python",
   "nbconvert_exporter": "python",
   "pygments_lexer": "ipython3",
   "version": "3.8.5"
  }
 },
 "nbformat": 4,
 "nbformat_minor": 4
}
